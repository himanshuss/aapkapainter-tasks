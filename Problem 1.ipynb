{
 "cells": [
  {
   "cell_type": "markdown",
   "metadata": {},
   "source": [
    "Write a code that prints out the first occurrence of a duplicate in a given array of integers\n",
    "Sample Input: [1,2,3,2,1]\n",
    "Output: 2"
   ]
  },
  {
   "cell_type": "code",
   "execution_count": 1,
   "metadata": {},
   "outputs": [
    {
     "data": {
      "text/plain": [
       "3"
      ]
     },
     "execution_count": 1,
     "metadata": {},
     "output_type": "execute_result"
    }
   ],
   "source": [
    "def duparray(a):\n",
    "\n",
    "    a.sort() # sorting array in accending order to reduce computational time\n",
    "    \n",
    "    for i in range(len(a)-1):# loop\n",
    "\n",
    "        if a[i]==a[i+1]: # comparing current postion with next element\n",
    "            return a[i]\n",
    "        \n",
    "    return (\"No Duplicate\")\n",
    "\n",
    "            \n",
    "a=[1,2,3,4,3,7,4]   #considering list only of integer values # input\n",
    "duparray(a)        "
   ]
  }
 ],
 "metadata": {
  "kernelspec": {
   "display_name": "Python 3",
   "language": "python",
   "name": "python3"
  },
  "language_info": {
   "codemirror_mode": {
    "name": "ipython",
    "version": 3
   },
   "file_extension": ".py",
   "mimetype": "text/x-python",
   "name": "python",
   "nbconvert_exporter": "python",
   "pygments_lexer": "ipython3",
   "version": "3.7.6"
  }
 },
 "nbformat": 4,
 "nbformat_minor": 4
}
