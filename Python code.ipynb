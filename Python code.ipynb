{
 "cells": [
  {
   "cell_type": "markdown",
   "metadata": {},
   "source": [
    "Write a code that prints out the first occurrence of a duplicate in a given array of integers\n",
    "Sample Input: [1,2,3,2,1]\n",
    "Output: 2"
   ]
  },
  {
   "cell_type": "code",
   "execution_count": 1,
   "metadata": {},
   "outputs": [
    {
     "data": {
      "text/plain": [
       "3"
      ]
     },
     "execution_count": 1,
     "metadata": {},
     "output_type": "execute_result"
    }
   ],
   "source": [
    "def duparray(a):\n",
    "\n",
    "    a.sort() # sorting array in accending order to reduce computational time\n",
    "    \n",
    "    for i in range(len(a)-1):# loop\n",
    "\n",
    "        if a[i]==a[i+1]: # comparing current postion with next element\n",
    "            return a[i]\n",
    "        \n",
    "    return (\"No Duplicate\")\n",
    "\n",
    "            \n",
    "a=[1,2,3,4,3,7,4]   #considering list only of integer values # input\n",
    "duparray(a)        "
   ]
  },
  {
   "cell_type": "markdown",
   "metadata": {},
   "source": [
    "Write a code that checks if two given strings are anagrams\n",
    "Sample Input: Mary Army\n",
    "Output: Yes"
   ]
  },
  {
   "cell_type": "code",
   "execution_count": 2,
   "metadata": {},
   "outputs": [
    {
     "data": {
      "text/plain": [
       "'Yes'"
      ]
     },
     "execution_count": 2,
     "metadata": {},
     "output_type": "execute_result"
    }
   ],
   "source": [
    "def anagram(s1,s2):\n",
    "    \n",
    "    if (sorted(s1)==sorted(s2)):\n",
    "        return 'Yes'\n",
    "    else:\n",
    "        return 'No'\n",
    "        \n",
    "\n",
    "s1='abc' #input1\n",
    "s2='cba' #input2\n",
    "anagram(s1,s2)"
   ]
  }
 ],
 "metadata": {
  "kernelspec": {
   "display_name": "Python 3",
   "language": "python",
   "name": "python3"
  },
  "language_info": {
   "codemirror_mode": {
    "name": "ipython",
    "version": 3
   },
   "file_extension": ".py",
   "mimetype": "text/x-python",
   "name": "python",
   "nbconvert_exporter": "python",
   "pygments_lexer": "ipython3",
   "version": "3.7.6"
  }
 },
 "nbformat": 4,
 "nbformat_minor": 4
}
